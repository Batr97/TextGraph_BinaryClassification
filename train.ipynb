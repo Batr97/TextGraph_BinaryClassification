{
 "cells": [
  {
   "cell_type": "code",
   "execution_count": 22,
   "metadata": {},
   "outputs": [],
   "source": [
    "import dgl\n",
    "from dgl.data import CiteseerGraphDataset, CoraGraphDataset, PubmedGraphDataset\n",
    "from dgl import AddSelfLoop\n",
    "from dgl.dataloading import GraphDataLoader\n",
    "from torch.utils.data import DataLoader\n",
    "from dgl.nn import EdgeGATConv, GraphConv\n",
    "import torch.nn as nn\n",
    "import torch\n",
    "from tqdm import tqdm\n",
    "from sklearn.metrics import f1_score"
   ]
  },
  {
   "cell_type": "code",
   "execution_count": 23,
   "metadata": {},
   "outputs": [
    {
     "name": "stdout",
     "output_type": "stream",
     "text": [
      "Done loading data from cached files.\n"
     ]
    }
   ],
   "source": [
    "dataset = dgl.data.CSVDataset('../data/dataset')"
   ]
  },
  {
   "cell_type": "code",
   "execution_count": 24,
   "metadata": {},
   "outputs": [],
   "source": [
    "train_dataset, val_datasetloader = dgl.data.utils.split_dataset(dataset, shuffle=True, frac_list=[0.9, 0.1])"
   ]
  },
  {
   "cell_type": "code",
   "execution_count": 25,
   "metadata": {},
   "outputs": [],
   "source": [
    "data_loader = GraphDataLoader(dataset, batch_size=32, shuffle=True)\n",
    "train_loader = GraphDataLoader(train_dataset, batch_size=32, shuffle=True)\n",
    "val_loader = GraphDataLoader(val_datasetloader, batch_size=32, shuffle=True)"
   ]
  },
  {
   "cell_type": "code",
   "execution_count": 26,
   "metadata": {},
   "outputs": [
    {
     "data": {
      "text/plain": [
       "32"
      ]
     },
     "execution_count": 26,
     "metadata": {},
     "output_type": "execute_result"
    }
   ],
   "source": [
    "graphs = dgl.unbatch(next(iter(data_loader))[0])\n",
    "len(graphs)"
   ]
  },
  {
   "cell_type": "code",
   "execution_count": 27,
   "metadata": {},
   "outputs": [],
   "source": [
    "def collate(samples):\n",
    "    # The input `samples` is a list of pairs\n",
    "    #  (graph, label).\n",
    "    graphs, labels = map(list, zip(*samples))\n",
    "    batched_graph = dgl.batch(graphs)\n",
    "    return batched_graph, torch.tensor(labels)\n",
    "\n",
    "dataloader = DataLoader(dataset, batch_size=32, shuffle=True, collate_fn=collate)"
   ]
  },
  {
   "cell_type": "code",
   "execution_count": 28,
   "metadata": {},
   "outputs": [
    {
     "data": {
      "text/plain": [
       "Graph(num_nodes=9, num_edges=12,\n",
       "      ndata_schemes={'feat': Scheme(shape=(768,), dtype=torch.float32)}\n",
       "      edata_schemes={'feat': Scheme(shape=(768,), dtype=torch.float32)})"
      ]
     },
     "execution_count": 28,
     "metadata": {},
     "output_type": "execute_result"
    }
   ],
   "source": [
    "next(iter(data_loader))[0]\n",
    "dgl.batch([dataset[0][0], dataset[1][0]])"
   ]
  },
  {
   "cell_type": "code",
   "execution_count": 29,
   "metadata": {},
   "outputs": [
    {
     "name": "stdout",
     "output_type": "stream",
     "text": [
      "torch.Size([117, 768])\n",
      "torch.Size([142, 768])\n",
      "torch.Size([117, 2, 15])\n",
      "torch.Size([117, 30])\n",
      "torch.Size([117, 2, 15])\n",
      "torch.Size([117, 30])\n",
      "torch.Size([32, 30])\n",
      "torch.Size([32, 1])\n"
     ]
    }
   ],
   "source": [
    "import torch.nn.functional as F\n",
    "g = next(iter(data_loader))[0]\n",
    "\n",
    "# g = dgl.add_self_loop(g)\n",
    "# print(dgl.unbatch(g))\n",
    "print(g.ndata['feat'].shape)\n",
    "layer1 = EdgeGATConv(768, 768, 15, 2, allow_zero_in_degree=True)\n",
    "layer2 = EdgeGATConv(15*2, 768, 15, 2, allow_zero_in_degree=True)\n",
    "# layer1 = GraphConv(768, 15, allow_zero_in_degree=True)\n",
    "# layer2 = GraphConv(15, 2, allow_zero_in_degree=True)\n",
    "lin_layer = nn.Linear(15 * 2, 1)\n",
    "edge_feat = g.edata['feat']\n",
    "node_feat = g.ndata['feat']\n",
    "print(edge_feat.shape)\n",
    "out1 = layer1(g, node_feat, edge_feat, get_attention=False)\n",
    "print(out1.shape)\n",
    "print(out1.view(g.ndata['feat'].shape[0], 30).shape)\n",
    "out2 = F.relu(layer2(g, out1.view(g.ndata['feat'].shape[0], 30), edge_feat))\n",
    "print(out2.shape)\n",
    "out2 = out2.view(g.ndata['feat'].shape[0], 30)\n",
    "print(out2.shape)\n",
    "# with g.local_scope():\n",
    "#     g.ndata['feat'] = out2\n",
    "#     hg1 = dgl.readout_nodes(g, 'feat')\n",
    "#     print(hg1.shape)\n",
    "g.ndata['feat'] = out2\n",
    "hg = dgl.mean_nodes(g, 'feat')\n",
    "print(hg.shape)\n",
    "# he = dgl.mean_edges(g, 'feat')\n",
    "# print(he.shape)\n",
    "out3 = lin_layer(hg)\n",
    "print(out3.shape)\n",
    "\n",
    "# out1 = F.relu(layer1(g, g.ndata['feat']))\n",
    "# print(out1.shape)\n",
    "# out2 = F.relu(layer2(g, out1))\n",
    "# print(out2.shape)\n",
    "# g.ndata['h'] = out2\n",
    "# # dgl.unbatch(g)\n",
    "# dgl.mean_nodes(g, 'h').shape"
   ]
  },
  {
   "cell_type": "code",
   "execution_count": 30,
   "metadata": {},
   "outputs": [],
   "source": [
    "import dgl.nn.pytorch as dglnn\n",
    "import torch.nn as nn\n",
    "import torch.nn.functional as F\n",
    "\n",
    "class Classifier(nn.Module):\n",
    "    def __init__(self, in_feats, edge_feats, out_feats, num_heads, dropout_prob=0.5):\n",
    "        super(Classifier, self).__init__()\n",
    "        self.in_feats = in_feats\n",
    "        self.edge_feats = edge_feats\n",
    "        self.out_feats = out_feats\n",
    "        self.num_heads = num_heads\n",
    "\n",
    "        # Two-layer GAT with skip connections\n",
    "        self.conv1 = dglnn.EdgeGATConv(in_feats, edge_feats, out_feats, num_heads, allow_zero_in_degree=True)\n",
    "        self.conv2 = dglnn.EdgeGATConv(out_feats * num_heads, edge_feats, out_feats, num_heads, allow_zero_in_degree=True)\n",
    "\n",
    "        # Dropout layers for regularization\n",
    "        self.dropout1 = nn.Dropout(dropout_prob)\n",
    "        self.dropout2 = nn.Dropout(dropout_prob)\n",
    "\n",
    "        # Final classification layer\n",
    "        self.classify = nn.Linear(out_feats * num_heads, 1)\n",
    "\n",
    "    def forward(self, g, node_feat, edge_feat):\n",
    "        # First GAT layer with skip connection\n",
    "        h1 = F.relu(self.conv1(g, node_feat, edge_feat))\n",
    "        h1 = h1.view(h1.shape[0], self.out_feats * self.num_heads)\n",
    "        h1 = self.dropout1(h1)\n",
    "\n",
    "        # Second GAT layer\n",
    "        h2 = F.relu(self.conv2(g, h1, edge_feat))\n",
    "        h2 = h2.view(h2.shape[0], self.out_feats * self.num_heads)\n",
    "        h2 = self.dropout2(h2)\n",
    "\n",
    "        # Use a skip connection to combine features from both layers\n",
    "        h_combined = h1 + h2\n",
    "\n",
    "        # Aggregate graph nodes into a graph-level feature vector\n",
    "        with g.local_scope():\n",
    "            g.ndata['feat'] = h_combined\n",
    "            hg = dgl.mean_nodes(g, 'feat')\n",
    "            return torch.sigmoid(self.classify(hg))\n",
    "        \n",
    "\n",
    "def f1_metric(logits, labels):\n",
    "    preds = (logits > 0.5).float()\n",
    "    return f1_score(labels.cpu().numpy(), preds.cpu().numpy())"
   ]
  },
  {
   "cell_type": "code",
   "execution_count": 31,
   "metadata": {},
   "outputs": [
    {
     "name": "stderr",
     "output_type": "stream",
     "text": [
      " 10%|█         | 1/10 [00:17<02:37, 17.46s/it]"
     ]
    },
    {
     "name": "stdout",
     "output_type": "stream",
     "text": [
      "Epoch 1/10, Train Loss: 0.2352, Val Loss: 0.2084, Val F1: 0.1270\n"
     ]
    },
    {
     "name": "stderr",
     "output_type": "stream",
     "text": [
      " 20%|██        | 2/10 [00:31<02:01, 15.23s/it]"
     ]
    },
    {
     "name": "stdout",
     "output_type": "stream",
     "text": [
      "Epoch 2/10, Train Loss: 0.2001, Val Loss: 0.1721, Val F1: 0.4260\n"
     ]
    },
    {
     "name": "stderr",
     "output_type": "stream",
     "text": [
      " 30%|███       | 3/10 [00:46<01:45, 15.09s/it]"
     ]
    },
    {
     "name": "stdout",
     "output_type": "stream",
     "text": [
      "Epoch 3/10, Train Loss: 0.1824, Val Loss: 0.1572, Val F1: 0.4778\n"
     ]
    },
    {
     "name": "stderr",
     "output_type": "stream",
     "text": [
      " 40%|████      | 4/10 [00:59<01:27, 14.50s/it]"
     ]
    },
    {
     "name": "stdout",
     "output_type": "stream",
     "text": [
      "Epoch 4/10, Train Loss: 0.1780, Val Loss: 0.1572, Val F1: 0.4639\n"
     ]
    },
    {
     "name": "stderr",
     "output_type": "stream",
     "text": [
      " 50%|█████     | 5/10 [01:13<01:11, 14.23s/it]"
     ]
    },
    {
     "name": "stdout",
     "output_type": "stream",
     "text": [
      "Epoch 5/10, Train Loss: 0.1761, Val Loss: 0.1559, Val F1: 0.4544\n"
     ]
    },
    {
     "name": "stderr",
     "output_type": "stream",
     "text": [
      " 60%|██████    | 6/10 [01:28<00:58, 14.60s/it]"
     ]
    },
    {
     "name": "stdout",
     "output_type": "stream",
     "text": [
      "Epoch 6/10, Train Loss: 0.1716, Val Loss: 0.1559, Val F1: 0.5458\n"
     ]
    },
    {
     "name": "stderr",
     "output_type": "stream",
     "text": [
      " 70%|███████   | 7/10 [01:43<00:44, 14.81s/it]"
     ]
    },
    {
     "name": "stdout",
     "output_type": "stream",
     "text": [
      "Epoch 7/10, Train Loss: 0.1715, Val Loss: 0.1572, Val F1: 0.4641\n"
     ]
    },
    {
     "name": "stderr",
     "output_type": "stream",
     "text": [
      " 80%|████████  | 8/10 [01:57<00:29, 14.54s/it]"
     ]
    },
    {
     "name": "stdout",
     "output_type": "stream",
     "text": [
      "Epoch 8/10, Train Loss: 0.1710, Val Loss: 0.1522, Val F1: 0.5025\n"
     ]
    },
    {
     "name": "stderr",
     "output_type": "stream",
     "text": [
      " 90%|█████████ | 9/10 [02:13<00:14, 14.84s/it]"
     ]
    },
    {
     "name": "stdout",
     "output_type": "stream",
     "text": [
      "Epoch 9/10, Train Loss: 0.1695, Val Loss: 0.1579, Val F1: 0.5115\n"
     ]
    },
    {
     "name": "stderr",
     "output_type": "stream",
     "text": [
      "100%|██████████| 10/10 [02:28<00:00, 14.89s/it]"
     ]
    },
    {
     "name": "stdout",
     "output_type": "stream",
     "text": [
      "Epoch 10/10, Train Loss: 0.1691, Val Loss: 0.1579, Val F1: 0.5306\n"
     ]
    },
    {
     "name": "stderr",
     "output_type": "stream",
     "text": [
      "\n"
     ]
    },
    {
     "data": {
      "image/png": "[encoded data removed]",
      "text/plain": [
       "<Figure size 1000x500 with 2 Axes>"
      ]
     },
     "metadata": {},
     "output_type": "display_data"
    }
   ],
   "source": [
    "import torch\n",
    "import torch.nn as nn\n",
    "from tqdm import tqdm\n",
    "import matplotlib.pyplot as plt\n",
    "\n",
    "# Suppress warnings\n",
    "import warnings\n",
    "warnings.filterwarnings(\"ignore\")\n",
    "\n",
    "# Assuming you have defined f1_metric and train_loader/val_loader\n",
    "\n",
    "# Function to plot training curve\n",
    "def plot_training_curve(train_losses, val_losses, train_f1_scores, val_f1_scores):\n",
    "    plt.figure(figsize=(10, 5))\n",
    "    \n",
    "    plt.subplot(1, 2, 1)\n",
    "    plt.plot(train_losses, label='Training Loss')\n",
    "    plt.plot(val_losses, label='Validation Loss')\n",
    "    plt.xlabel('Epoch')\n",
    "    plt.ylabel('Loss')\n",
    "    plt.title('Loss Curve')\n",
    "    plt.legend()\n",
    "\n",
    "    plt.subplot(1, 2, 2)\n",
    "    plt.plot(train_f1_scores, label='Training F1 Score')\n",
    "    plt.plot(val_f1_scores, label='Validation F1 Score')\n",
    "    plt.xlabel('Epoch')\n",
    "    plt.ylabel('F1 Score')\n",
    "    plt.title('F1 Score Curve')\n",
    "    plt.legend()\n",
    "\n",
    "    plt.tight_layout()\n",
    "    plt.show()\n",
    "\n",
    "in_feats_dim = 768\n",
    "edge_feats_dim = 768\n",
    "out_feats = 15\n",
    "num_heads = 1\n",
    "\n",
    "model = Classifier(in_feats_dim, edge_feats_dim, out_feats, num_heads)\n",
    "opt = torch.optim.Adam(model.parameters(), weight_decay=1e-4)\n",
    "\n",
    "loss_func = nn.BCELoss()\n",
    "\n",
    "best_val_loss = float('inf')\n",
    "best_model = None\n",
    "\n",
    "epoch_losses = []\n",
    "val_losses = []\n",
    "train_f1_scores = []\n",
    "val_f1_scores = []\n",
    "num_epochs = 10\n",
    "for epoch in tqdm(range(num_epochs)):\n",
    "    epoch_loss = 0\n",
    "    epoch_f1 = 0\n",
    "    model.train()\n",
    "    for i, (batched_graph, labels) in enumerate(train_loader):\n",
    "        node_feats = batched_graph.ndata['feat']\n",
    "        edge_feats = batched_graph.edata['feat']\n",
    "        logits = model(batched_graph, node_feats, edge_feats)\n",
    "        loss = loss_func(logits, labels)\n",
    "        opt.zero_grad()\n",
    "        loss.backward()\n",
    "        opt.step()\n",
    "        epoch_loss += loss.detach().item()\n",
    "        f1 = f1_metric(logits, labels)\n",
    "        epoch_f1 += f1\n",
    "    epoch_loss /= (i + 1)\n",
    "    epoch_f1 /= (i + 1)\n",
    "    epoch_losses.append(epoch_loss)\n",
    "    train_f1_scores.append(epoch_f1)\n",
    "    \n",
    "    # Validation phase\n",
    "    model.eval()\n",
    "    val_loss = 0\n",
    "    val_f1 = 0\n",
    "    with torch.no_grad():\n",
    "        for i, (batched_graph, labels) in enumerate(val_loader):\n",
    "            node_feats = batched_graph.ndata['feat']\n",
    "            edge_feats = batched_graph.edata['feat']\n",
    "            logits = model(batched_graph, node_feats, edge_feats)\n",
    "            loss = loss_func(logits, labels)\n",
    "            val_loss += loss.item()\n",
    "            f1 = f1_metric(logits, labels)\n",
    "            val_f1 += f1\n",
    "\n",
    "    val_loss /= (i + 1)\n",
    "    val_losses.append(val_loss)\n",
    "    val_f1 /= (i + 1)\n",
    "    val_f1_scores.append(val_f1)\n",
    "    \n",
    "    print(f'Epoch {epoch + 1}/{num_epochs}, '\n",
    "          f'Train Loss: {epoch_loss:.4f}, '\n",
    "          f'Val Loss: {val_loss:.4f}, '\n",
    "          f'Val F1: {val_f1:.4f}')\n",
    "    if val_loss < best_val_loss:\n",
    "        best_val_loss = val_loss\n",
    "        best_model = model.state_dict()  # Extract the state dictionary\n",
    "\n",
    "# After training completes, load the best model state dict\n",
    "model.load_state_dict(best_model)\n",
    "\n",
    "# Save the best model\n",
    "torch.save(best_model, 'GAT_model_10epochs_new.pth')\n",
    "\n",
    "# Plotting the training curve\n",
    "plot_training_curve(epoch_losses, val_losses, train_f1_scores, val_f1_scores)\n",
    "\n"
   ]
  },
  {
   "cell_type": "code",
   "execution_count": null,
   "metadata": {},
   "outputs": [],
   "source": []
  },
  {
   "cell_type": "code",
   "execution_count": null,
   "metadata": {},
   "outputs": [],
   "source": []
  },
  {
   "cell_type": "code",
   "execution_count": null,
   "metadata": {},
   "outputs": [],
   "source": []
  },
  {
   "cell_type": "code",
   "execution_count": null,
   "metadata": {},
   "outputs": [],
   "source": []
  },
  {
   "cell_type": "code",
   "execution_count": null,
   "metadata": {},
   "outputs": [],
   "source": []
  },
  {
   "cell_type": "code",
   "execution_count": null,
   "metadata": {},
   "outputs": [],
   "source": []
  }
 ],
 "metadata": {
  "kernelspec": {
   "display_name": "Python 3.9.12 ('mncmu_ganitdinov': conda)",
   "language": "python",
   "name": "python3"
  },
  "language_info": {
   "codemirror_mode": {
    "name": "ipython",
    "version": 3
   },
   "file_extension": ".py",
   "mimetype": "text/x-python",
   "name": "python",
   "nbconvert_exporter": "python",
   "pygments_lexer": "ipython3",
   "version": "3.8.19"
  },
  "orig_nbformat": 4,
  "vscode": {
   "interpreter": {
    "hash": "0ec6cb8b45029d7d6f62f4f95c1d6c5e3d549c8394eb72be81c47f2d17ba31b5"
   }
  }
 },
 "nbformat": 4,
 "nbformat_minor": 2
}
